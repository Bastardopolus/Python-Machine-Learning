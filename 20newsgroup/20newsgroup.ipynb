{
 "cells": [
  {
   "cell_type": "markdown",
   "metadata": {},
   "source": [
    "Antes de nada, hay que importar los paquetes necesarios."
   ]
  },
  {
   "cell_type": "code",
   "execution_count": 1,
   "metadata": {
    "collapsed": false
   },
   "outputs": [
    {
     "name": "stdout",
     "output_type": "stream",
     "text": [
      "Populating the interactive namespace from numpy and matplotlib\n"
     ]
    }
   ],
   "source": [
    "%pylab inline\n",
    "from sklearn import datasets"
   ]
  },
  {
   "cell_type": "markdown",
   "metadata": {},
   "source": [
    "# Lectura de los datos"
   ]
  },
  {
   "cell_type": "markdown",
   "metadata": {
    "collapsed": false
   },
   "source": [
    "A continuación, se define una función para cargar los datos que se encuentran en las carpetas **data/20news-bydate-train/** y **data/20news-bydate-test/**. Los datos tendrán la siguiente estructura:\n",
    "\n",
    "+ data/\n",
    "    + 20news-bydate-train/\n",
    "        + category_name_1/\n",
    "            + file_1.txt\n",
    "            + file_2.txt\n",
    "            + ...\n",
    "        + category_name_2/\n",
    "            + file_1.txt\n",
    "            + file_2.txt\n",
    "            + ...\n",
    "    + 20news-bydate-test/\n",
    "        + category_name_1/\n",
    "            + file_1.txt\n",
    "            + file_2.txt\n",
    "            + ...\n",
    "        + category_name_2/\n",
    "            + file_1.txt\n",
    "            + file_2.txt\n",
    "            + ...\n",
    "            \n",
    "En total, debe haber **20 categorías**."
   ]
  },
  {
   "cell_type": "code",
   "execution_count": 2,
   "metadata": {
    "collapsed": false
   },
   "outputs": [],
   "source": [
    "def loadDataset(directory):\n",
    "    dataset = datasets.load_files(directory)\n",
    "    \n",
    "    print \"Loaded %d documents\" % len(dataset.data)\n",
    "    print \"Loaded %d categories\" % len(dataset.target_names)\n",
    "    print \"Categories \",dataset.target_names\n",
    "    print\n",
    "    \n",
    "    return dataset"
   ]
  },
  {
   "cell_type": "markdown",
   "metadata": {},
   "source": [
    "Una vez definida la función, se cargan los datos de entrenamiento y test."
   ]
  },
  {
   "cell_type": "code",
   "execution_count": 3,
   "metadata": {
    "collapsed": false
   },
   "outputs": [
    {
     "name": "stdout",
     "output_type": "stream",
     "text": [
      "Loading data train...\n",
      "Loaded 11314 documents\n",
      "Loaded 20 categories\n",
      "Categories  ['alt.atheism', 'comp.graphics', 'comp.os.ms-windows.misc', 'comp.sys.ibm.pc.hardware', 'comp.sys.mac.hardware', 'comp.windows.x', 'misc.forsale', 'rec.autos', 'rec.motorcycles', 'rec.sport.baseball', 'rec.sport.hockey', 'sci.crypt', 'sci.electronics', 'sci.med', 'sci.space', 'soc.religion.christian', 'talk.politics.guns', 'talk.politics.mideast', 'talk.politics.misc', 'talk.religion.misc']\n",
      "\n",
      "Loading data test....\n",
      "Loaded 7532 documents\n",
      "Loaded 20 categories\n",
      "Categories  ['alt.atheism', 'comp.graphics', 'comp.os.ms-windows.misc', 'comp.sys.ibm.pc.hardware', 'comp.sys.mac.hardware', 'comp.windows.x', 'misc.forsale', 'rec.autos', 'rec.motorcycles', 'rec.sport.baseball', 'rec.sport.hockey', 'sci.crypt', 'sci.electronics', 'sci.med', 'sci.space', 'soc.religion.christian', 'talk.politics.guns', 'talk.politics.mideast', 'talk.politics.misc', 'talk.religion.misc']\n",
      "\n"
     ]
    }
   ],
   "source": [
    "print \"Loading data train...\"\n",
    "data_train = loadDataset(\"data/20news-bydate-train/\")\n",
    "\n",
    "print \"Loading data test....\"\n",
    "data_test = loadDataset(\"data/20news-bydate-test/\")"
   ]
  },
  {
   "cell_type": "markdown",
   "metadata": {},
   "source": [
    "A continuación, se inspeccionará el algún archivo del dataset para ver su contenido y su categoría:"
   ]
  },
  {
   "cell_type": "code",
   "execution_count": 4,
   "metadata": {
    "collapsed": false
   },
   "outputs": [
    {
     "name": "stdout",
     "output_type": "stream",
     "text": [
      "Message:\n",
      "From: taihou@chromium.iss.nus.sg (Tng Tai Hou)\n",
      "Subject: ADB and graphics tablet help!\n",
      "Organization: Institute Of Systems Science, NUS\n",
      "Lines: 13\n",
      "\n",
      "Help!!!\n",
      "\n",
      "I have an ADB graphicsd tablet which I want to connect to my\n",
      "Quadra 950. Unfortunately, the 950 has only one ADB port and\n",
      "it seems I would have to give up my mouse.\n",
      "\n",
      "Please, can someone help me? I want to use the tablet as well as\n",
      "the mouse (and the keyboard of course!!!).\n",
      "\n",
      "Thanks in advance.\n",
      "\n",
      "Tai Hou TNG\n",
      "Singapore\n",
      "\n",
      "Category: comp.windows.x \n"
     ]
    }
   ],
   "source": [
    "print \"Message:\"\n",
    "print data_train.data[5]\n",
    "\n",
    "print \"Category: %s \" % data_train.target_names[5]"
   ]
  },
  {
   "cell_type": "markdown",
   "metadata": {},
   "source": [
    "¿Cómo se podrían obtener los nombres de las categorías de los 10 primeros archivos?"
   ]
  },
  {
   "cell_type": "code",
   "execution_count": 5,
   "metadata": {
    "collapsed": false
   },
   "outputs": [
    {
     "name": "stdout",
     "output_type": "stream",
     "text": [
      "['alt.atheism', 'comp.graphics', 'comp.os.ms-windows.misc', 'comp.sys.ibm.pc.hardware', 'comp.sys.mac.hardware', 'comp.windows.x', 'misc.forsale', 'rec.autos', 'rec.motorcycles', 'rec.sport.baseball']\n"
     ]
    }
   ],
   "source": [
    "print data_train.target_names[:10]"
   ]
  },
  {
   "cell_type": "markdown",
   "metadata": {},
   "source": [
    "# Extraer información de los archivos"
   ]
  },
  {
   "cell_type": "markdown",
   "metadata": {},
   "source": [
    "Antes de aplicar técnicas de machine learning a los datasets, en este caso documentos de texto, hay que convertir dicho  texto en vectores numéricos."
   ]
  },
  {
   "cell_type": "markdown",
   "metadata": {},
   "source": [
    "### Procesado de texto y creación de un diccionario"
   ]
  },
  {
   "cell_type": "code",
   "execution_count": 6,
   "metadata": {
    "collapsed": true
   },
   "outputs": [],
   "source": [
    "from sklearn.feature_extraction.text import CountVectorizer"
   ]
  },
  {
   "cell_type": "code",
   "execution_count": 7,
   "metadata": {
    "collapsed": false
   },
   "outputs": [
    {
     "data": {
      "text/plain": [
       "(11314, 130093)"
      ]
     },
     "execution_count": 7,
     "metadata": {},
     "output_type": "execute_result"
    }
   ],
   "source": [
    "count_vect = CountVectorizer(decode_error = 'ignore', lowercase=True, strip_accents=\"unicode\")\n",
    "X_train_counts = count_vect.fit_transform(data_train.data)\n",
    "X_train_counts.shape"
   ]
  },
  {
   "cell_type": "markdown",
   "metadata": {
    "collapsed": true
   },
   "source": [
    "Descarga de las stopwords:"
   ]
  },
  {
   "cell_type": "code",
   "execution_count": 8,
   "metadata": {
    "collapsed": false
   },
   "outputs": [
    {
     "name": "stdout",
     "output_type": "stream",
     "text": [
      "[nltk_data] Downloading package stopwords to /root/nltk_data...\n",
      "[nltk_data]   Package stopwords is already up-to-date!\n"
     ]
    }
   ],
   "source": [
    "import nltk\n",
    "nltk.download(\"stopwords\")\n",
    "english_stopwords = nltk.corpus.stopwords.words('english')\n",
    "stopwords = set(english_stopwords)"
   ]
  },
  {
   "cell_type": "code",
   "execution_count": 9,
   "metadata": {
    "collapsed": false
   },
   "outputs": [
    {
     "data": {
      "text/plain": [
       "(11314, 129970)"
      ]
     },
     "execution_count": 9,
     "metadata": {},
     "output_type": "execute_result"
    }
   ],
   "source": [
    "count_vect = CountVectorizer(decode_error = 'ignore', lowercase=True, strip_accents=\"unicode\", stop_words = stopwords)\n",
    "X_train_counts = count_vect.fit_transform(data_train.data)\n",
    "X_train_counts.shape"
   ]
  },
  {
   "cell_type": "markdown",
   "metadata": {},
   "source": [
    "Conversión del diccionario **de ocurrencias a frecuencias**. El término **tf-idf** (term frequency-inverse document frequency) es un término estadístico que refleja cómo de importante es una palabra en un documento. Es muy utilizado en *text mining*."
   ]
  },
  {
   "cell_type": "code",
   "execution_count": 10,
   "metadata": {
    "collapsed": false
   },
   "outputs": [
    {
     "data": {
      "text/plain": [
       "(11314, 129970)"
      ]
     },
     "execution_count": 10,
     "metadata": {},
     "output_type": "execute_result"
    }
   ],
   "source": [
    "from sklearn.feature_extraction.text import TfidfTransformer\n",
    "tf_transformer = TfidfTransformer(use_idf=False).fit(X_train_counts)\n",
    "X_train_tf = tf_transformer.transform(X_train_counts)\n",
    "X_train_tf.shape"
   ]
  },
  {
   "cell_type": "code",
   "execution_count": 11,
   "metadata": {
    "collapsed": false
   },
   "outputs": [
    {
     "data": {
      "text/plain": [
       "(11314, 129970)"
      ]
     },
     "execution_count": 11,
     "metadata": {},
     "output_type": "execute_result"
    }
   ],
   "source": [
    "tfidf_transformer = TfidfTransformer()\n",
    "X_train_tfidf = tfidf_transformer.fit_transform(X_train_counts)\n",
    "X_train_tfidf.shape"
   ]
  },
  {
   "cell_type": "markdown",
   "metadata": {},
   "source": [
    "# Entrenamiento y creación de un modelo"
   ]
  },
  {
   "cell_type": "code",
   "execution_count": 12,
   "metadata": {
    "collapsed": true
   },
   "outputs": [],
   "source": [
    "from sklearn.naive_bayes import MultinomialNB\n",
    "clf = MultinomialNB().fit(X_train_tfidf, data_train.target)"
   ]
  },
  {
   "cell_type": "code",
   "execution_count": 17,
   "metadata": {
    "collapsed": false
   },
   "outputs": [],
   "source": [
    "docs_new = ['God is love', 'OpenGL on the GPU is fast', 'I want to buy a new motorcycle']\n",
    "X_new_counts = count_vect.transform(data_test.data)\n",
    "X_new_tfidf = tfidf_transformer.transform(X_new_counts)\n",
    "\n",
    "prediction = clf.predict(X_new_tfidf)\n",
    "\n",
    "#for doc, category in zip(docs_new, predicted):\n",
    "#    print('%r => %s' % (doc, data_train.target_names[category]))"
   ]
  },
  {
   "cell_type": "code",
   "execution_count": 18,
   "metadata": {
    "collapsed": false
   },
   "outputs": [],
   "source": [
    "from sklearn.metrics import confusion_matrix\n",
    "cm = confusion_matrix(data_test.target, prediction)"
   ]
  },
  {
   "cell_type": "code",
   "execution_count": 24,
   "metadata": {
    "collapsed": true
   },
   "outputs": [],
   "source": [
    "def plot_confusion_matrix(cm, labels, title='Confusion matrix', cmap=plt.cm.Blues):\n",
    "    plt.imshow(cm, interpolation='nearest', cmap=cmap)\n",
    "    plt.title(title)\n",
    "    plt.colorbar()\n",
    "    tick_marks = np.arange(len(labels))\n",
    "    plt.xticks(tick_marks, labels, rotation=45)\n",
    "    plt.yticks(tick_marks, labels)\n",
    "    plt.tight_layout()\n",
    "    plt.ylabel('True label')\n",
    "    plt.xlabel('Predicted label')"
   ]
  },
  {
   "cell_type": "code",
   "execution_count": 25,
   "metadata": {
    "collapsed": false,
    "scrolled": false
   },
   "outputs": [
    {
     "name": "stdout",
     "output_type": "stream",
     "text": [
      "Confusion matrix, without normalization\n",
      "[[213   0   0   1   0   1   0   1   2   1   1   3   0   7   4  71   5   6\n",
      "    1   2]\n",
      " [  1 275  16  13   8  20   3   4   1   6   2  21   5   0   8   2   3   1\n",
      "    0   0]\n",
      " [  1  18 275  43   4  13   1   1   4   4   2  13   1   0   5   8   1   0\n",
      "    0   0]\n",
      " [  0   5  16 313  16   2  10   4   1   0   2   4  14   0   5   0   0   0\n",
      "    0   0]\n",
      " [  0   3  10  22 313   2   7   3   1   3   1   7   7   1   2   1   2   0\n",
      "    0   0]\n",
      " [  1  28  18  11   1 311   1   0   1   1   0  12   0   1   4   3   2   0\n",
      "    0   0]\n",
      " [  0   2   3  28  10   1 302  13   2   3   6   2   8   6   1   2   1   0\n",
      "    0   0]\n",
      " [  0   1   0   3   0   0   5 365   3   2   3   2   3   1   3   0   4   0\n",
      "    1   0]\n",
      " [  0   0   0   1   0   0   4  10 380   0   0   1   1   0   0   0   1   0\n",
      "    0   0]\n",
      " [  0   0   0   0   1   0   0   4   0 364  23   0   0   0   2   1   1   1\n",
      "    0   0]\n",
      " [  0   0   0   0   0   0   0   0   0   4 390   1   0   0   1   3   0   0\n",
      "    0   0]\n",
      " [  0   2   2   0   0   1   1   3   0   0   0 384   1   1   0   0   1   0\n",
      "    0   0]\n",
      " [  0   6   4  25   6   0   5   6   6   1   3  56 250   4  12   6   1   2\n",
      "    0   0]\n",
      " [  2   4   1   2   1   3   2   0   4   4   6   7   9 308   7  28   5   3\n",
      "    0   0]\n",
      " [  0   3   0   1   0   4   0   2   1   0   2   2   1   2 369   4   2   0\n",
      "    1   0]\n",
      " [  2   1   2   1   0   0   0   0   1   1   0   0   1   0   4 384   0   0\n",
      "    0   1]\n",
      " [  0   0   0   1   0   0   2   1   1   1   0   8   0   1   1   3 343   1\n",
      "    1   0]\n",
      " [  0   1   0   0   0   1   0   0   0   1   0   2   1   0   0  11   3 354\n",
      "    2   0]\n",
      " [  2   0   0   0   0   0   0   1   0   0   1   9   0   1  10  12 117   4\n",
      "  153   0]\n",
      " [ 42   2   0   0   0   0   0   0   0   1   2   3   0   3   5 103  31   3\n",
      "    4  52]]\n",
      "Normalized confusion matrix\n",
      "[[ 0.6677116   0.          0.          0.0031348   0.          0.0031348\n",
      "   0.          0.0031348   0.00626959  0.0031348   0.0031348   0.00940439\n",
      "   0.          0.02194357  0.01253918  0.22257053  0.01567398  0.01880878\n",
      "   0.0031348   0.00626959]\n",
      " [ 0.00257069  0.70694087  0.04113111  0.03341902  0.02056555  0.05141388\n",
      "   0.00771208  0.01028278  0.00257069  0.01542416  0.00514139  0.05398458\n",
      "   0.01285347  0.          0.02056555  0.00514139  0.00771208  0.00257069\n",
      "   0.          0.        ]\n",
      " [ 0.00253807  0.04568528  0.69796954  0.10913706  0.01015228  0.03299492\n",
      "   0.00253807  0.00253807  0.01015228  0.01015228  0.00507614  0.03299492\n",
      "   0.00253807  0.          0.01269036  0.02030457  0.00253807  0.          0.\n",
      "   0.        ]\n",
      " [ 0.          0.0127551   0.04081633  0.79846939  0.04081633  0.00510204\n",
      "   0.0255102   0.01020408  0.00255102  0.          0.00510204  0.01020408\n",
      "   0.03571429  0.          0.0127551   0.          0.          0.          0.\n",
      "   0.        ]\n",
      " [ 0.          0.00779221  0.02597403  0.05714286  0.81298701  0.00519481\n",
      "   0.01818182  0.00779221  0.0025974   0.00779221  0.0025974   0.01818182\n",
      "   0.01818182  0.0025974   0.00519481  0.0025974   0.00519481  0.          0.\n",
      "   0.        ]\n",
      " [ 0.00253165  0.07088608  0.04556962  0.0278481   0.00253165  0.78734177\n",
      "   0.00253165  0.          0.00253165  0.00253165  0.          0.03037975\n",
      "   0.          0.00253165  0.01012658  0.00759494  0.00506329  0.          0.\n",
      "   0.        ]\n",
      " [ 0.          0.00512821  0.00769231  0.07179487  0.02564103  0.0025641\n",
      "   0.77435897  0.03333333  0.00512821  0.00769231  0.01538462  0.00512821\n",
      "   0.02051282  0.01538462  0.0025641   0.00512821  0.0025641   0.          0.\n",
      "   0.        ]\n",
      " [ 0.          0.00252525  0.          0.00757576  0.          0.\n",
      "   0.01262626  0.92171717  0.00757576  0.00505051  0.00757576  0.00505051\n",
      "   0.00757576  0.00252525  0.00757576  0.          0.01010101  0.\n",
      "   0.00252525  0.        ]\n",
      " [ 0.          0.          0.          0.00251256  0.          0.\n",
      "   0.01005025  0.02512563  0.95477387  0.          0.          0.00251256\n",
      "   0.00251256  0.          0.          0.          0.00251256  0.          0.\n",
      "   0.        ]\n",
      " [ 0.          0.          0.          0.          0.00251889  0.          0.\n",
      "   0.01007557  0.          0.91687657  0.05793451  0.          0.          0.\n",
      "   0.00503778  0.00251889  0.00251889  0.00251889  0.          0.        ]\n",
      " [ 0.          0.          0.          0.          0.          0.          0.\n",
      "   0.          0.          0.01002506  0.97744361  0.00250627  0.          0.\n",
      "   0.00250627  0.0075188   0.          0.          0.          0.        ]\n",
      " [ 0.          0.00505051  0.00505051  0.          0.          0.00252525\n",
      "   0.00252525  0.00757576  0.          0.          0.          0.96969697\n",
      "   0.00252525  0.00252525  0.          0.          0.00252525  0.          0.\n",
      "   0.        ]\n",
      " [ 0.          0.01526718  0.01017812  0.06361323  0.01526718  0.\n",
      "   0.01272265  0.01526718  0.01526718  0.00254453  0.00763359  0.14249364\n",
      "   0.63613232  0.01017812  0.03053435  0.01526718  0.00254453  0.00508906\n",
      "   0.          0.        ]\n",
      " [ 0.00505051  0.01010101  0.00252525  0.00505051  0.00252525  0.00757576\n",
      "   0.00505051  0.          0.01010101  0.01010101  0.01515152  0.01767677\n",
      "   0.02272727  0.77777778  0.01767677  0.07070707  0.01262626  0.00757576\n",
      "   0.          0.        ]\n",
      " [ 0.          0.00761421  0.          0.00253807  0.          0.01015228\n",
      "   0.          0.00507614  0.00253807  0.          0.00507614  0.00507614\n",
      "   0.00253807  0.00507614  0.93654822  0.01015228  0.00507614  0.\n",
      "   0.00253807  0.        ]\n",
      " [ 0.00502513  0.00251256  0.00502513  0.00251256  0.          0.          0.\n",
      "   0.          0.00251256  0.00251256  0.          0.          0.00251256\n",
      "   0.          0.01005025  0.96482412  0.          0.          0.\n",
      "   0.00251256]\n",
      " [ 0.          0.          0.          0.00274725  0.          0.\n",
      "   0.00549451  0.00274725  0.00274725  0.00274725  0.          0.02197802\n",
      "   0.          0.00274725  0.00274725  0.00824176  0.94230769  0.00274725\n",
      "   0.00274725  0.        ]\n",
      " [ 0.          0.00265957  0.          0.          0.          0.00265957\n",
      "   0.          0.          0.          0.00265957  0.          0.00531915\n",
      "   0.00265957  0.          0.          0.02925532  0.00797872  0.94148936\n",
      "   0.00531915  0.        ]\n",
      " [ 0.00645161  0.          0.          0.          0.          0.          0.\n",
      "   0.00322581  0.          0.          0.00322581  0.02903226  0.\n",
      "   0.00322581  0.03225806  0.03870968  0.37741935  0.01290323  0.49354839\n",
      "   0.        ]\n",
      " [ 0.16733068  0.00796813  0.          0.          0.          0.          0.\n",
      "   0.          0.          0.00398406  0.00796813  0.01195219  0.\n",
      "   0.01195219  0.01992032  0.41035857  0.12350598  0.01195219  0.01593625\n",
      "   0.20717131]]\n"
     ]
    },
    {
     "data": {
      "image/png": "[encoded data removed]",
      "text/plain": [
       "<matplotlib.figure.Figure at 0x7f9f649c4fd0>"
      ]
     },
     "metadata": {},
     "output_type": "display_data"
    }
   ],
   "source": [
    "print('Confusion matrix, without normalization')\n",
    "print(cm)\n",
    "\n",
    "# Normalize the confusion matrix by row (i.e by the number of samples\n",
    "# in each class)\n",
    "cm_normalized = cm.astype('float') / cm.sum(axis=1)[:, np.newaxis]\n",
    "print('Normalized confusion matrix')\n",
    "print(cm_normalized)\n",
    "plt.figure()\n",
    "plot_confusion_matrix(cm_normalized, data_train.target_names, title='Normalized confusion matrix')\n",
    "\n",
    "plt.show()"
   ]
  },
  {
   "cell_type": "code",
   "execution_count": null,
   "metadata": {
    "collapsed": true
   },
   "outputs": [],
   "source": []
  }
 ],
 "metadata": {
  "kernelspec": {
   "display_name": "Python 2",
   "language": "python",
   "name": "python2"
  },
  "language_info": {
   "codemirror_mode": {
    "name": "ipython",
    "version": 2
   },
   "file_extension": ".py",
   "mimetype": "text/x-python",
   "name": "python",
   "nbconvert_exporter": "python",
   "pygments_lexer": "ipython2",
   "version": "2.7.6"
  }
 },
 "nbformat": 4,
 "nbformat_minor": 0
}
