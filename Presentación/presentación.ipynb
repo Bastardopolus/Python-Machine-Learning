{
 "cells": [
  {
   "cell_type": "markdown",
   "metadata": {
    "slideshow": {
     "slide_type": "slide"
    }
   },
   "source": [
    "## Python Machine Learning"
   ]
  },
  {
   "cell_type": "markdown",
   "metadata": {
    "slideshow": {
     "slide_type": "slide"
    }
   },
   "source": [
    "### Índice"
   ]
  },
  {
   "cell_type": "markdown",
   "metadata": {
    "slideshow": {
     "slide_type": "fragment"
    }
   },
   "source": [
    "+ ¿Qué es Python?\n",
    "+ Entornos de desarrollo para Python\n",
    "+ Scikit-Learn\n",
    "+ Python como alternativa a R\n",
    "+ Ejemplos prácticos\n",
    "    + Iris Flower Dataset\n",
    "    + Análisis de programas políticos\n",
    "    + Clasificación de texto\n"
   ]
  },
  {
   "cell_type": "markdown",
   "metadata": {
    "slideshow": {
     "slide_type": "slide"
    }
   },
   "source": [
    "### Python"
   ]
  },
  {
   "cell_type": "markdown",
   "metadata": {
    "slideshow": {
     "slide_type": "subslide"
    }
   },
   "source": [
    "+ Python es un lenguaje de programación interpretado. \n",
    "+ Su nombre proviene de la afición de su creador original, Guido van Rossum, por los humoristas británicos Monty Python. \n",
    "+ Soporta:\n",
    "    + Programación orientada a objetos\n",
    "    + Programación imperativa\n",
    "    + Programación funcional. \n",
    "+ Es multiplataforma y posee una licencia abierta."
   ]
  },
  {
   "cell_type": "markdown",
   "metadata": {
    "slideshow": {
     "slide_type": "slide"
    }
   },
   "source": [
    "## Entornos de desarrollo para Python"
   ]
  },
  {
   "cell_type": "markdown",
   "metadata": {
    "slideshow": {
     "slide_type": "fragment"
    }
   },
   "source": [
    "+ Sublime Text\n",
    "+ PyCharm\n",
    "+ Spyder\n",
    "+ ...."
   ]
  },
  {
   "cell_type": "markdown",
   "metadata": {
    "slideshow": {
     "slide_type": "slide"
    }
   },
   "source": [
    "## Scikit-Learn"
   ]
  },
  {
   "cell_type": "markdown",
   "metadata": {
    "slideshow": {
     "slide_type": "fragment"
    }
   },
   "source": [
    "Librería que proporciona un **amplio conjunto de algoritmos de aprendizaje supervisado y no supervisado** a través de una consistente interfaz en Python.\n",
    "\n",
    "Publicado bajo **licencia BSD** y distribuido en muchos sistemas Linux, favorece el **uso comercial y educacional**."
   ]
  },
  {
   "cell_type": "markdown",
   "metadata": {
    "slideshow": {
     "slide_type": "subslide"
    }
   },
   "source": [
    "Esta librería se ha construido sobre **SciPy (Scientific Python)**, que debe ser instalada antes de utilizarse, así como:\n",
    "\n",
    "+ NumPy\n",
    "+ SciPy\n",
    "+ Matplotlib\n",
    "+ SymPy\n",
    "+ Pandas"
   ]
  },
  {
   "cell_type": "markdown",
   "metadata": {
    "slideshow": {
     "slide_type": "subslide"
    }
   },
   "source": [
    "### Características"
   ]
  },
  {
   "cell_type": "markdown",
   "metadata": {
    "slideshow": {
     "slide_type": "fragment"
    }
   },
   "source": [
    "Esta librería se centra en el modelado de datos y no en cargar y manipular los datos. Para estos fines, es mejor utilizar NumPy y Pandas. Algunas cosas que aporta Scikit-Learn son:\n",
    "\n",
    "+ Clustering.\n",
    "+ Validación cruzada.\n",
    "+ Datasets de prueba.\n",
    "+ Reducción de la dimensionalidad.\n",
    "+ Ensemble methods\n",
    "+ Feature selection\n",
    "+ Parameter tuning"
   ]
  },
  {
   "cell_type": "markdown",
   "metadata": {
    "slideshow": {
     "slide_type": "subslide"
    }
   },
   "source": [
    "#### Cosas buenas"
   ]
  },
  {
   "cell_type": "markdown",
   "metadata": {
    "slideshow": {
     "slide_type": "fragment"
    }
   },
   "source": [
    "+ Interfaz consistente ante modelos de machine learning.\n",
    "+ Proporciona muchos parámetros de configuración.\n",
    "+ Documentación excepcional.\n",
    "+ Desarrollo muy activo.\n",
    "+ Comunidad.\n"
   ]
  },
  {
   "cell_type": "markdown",
   "metadata": {
    "slideshow": {
     "slide_type": "subslide"
    }
   },
   "source": [
    "#### Cosas no tan buenas"
   ]
  },
  {
   "cell_type": "markdown",
   "metadata": {
    "slideshow": {
     "slide_type": "fragment"
    }
   },
   "source": [
    "+ Más difícil que R.\n",
    "+ R proporciona más facilidades para ENTENDER los modelos que se están construyendo. Scikit-learn va mucho más al grano."
   ]
  },
  {
   "cell_type": "markdown",
   "metadata": {
    "slideshow": {
     "slide_type": "slide"
    }
   },
   "source": [
    "## Ejemplos"
   ]
  },
  {
   "cell_type": "markdown",
   "metadata": {
    "slideshow": {
     "slide_type": "slide"
    }
   },
   "source": [
    "## Conclusiones"
   ]
  },
  {
   "cell_type": "markdown",
   "metadata": {
    "slideshow": {
     "slide_type": "slide"
    }
   },
   "source": [
    "## Hay mundo más allá de R"
   ]
  }
 ],
 "metadata": {
  "celltoolbar": "Slideshow",
  "kernelspec": {
   "display_name": "Python 2",
   "language": "python",
   "name": "python2"
  },
  "language_info": {
   "codemirror_mode": {
    "name": "ipython",
    "version": 2
   },
   "file_extension": ".py",
   "mimetype": "text/x-python",
   "name": "python",
   "nbconvert_exporter": "python",
   "pygments_lexer": "ipython2",
   "version": "2.7.6"
  }
 },
 "nbformat": 4,
 "nbformat_minor": 0
}
